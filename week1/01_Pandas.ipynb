{
 "cells": [
  {
   "cell_type": "markdown",
   "metadata": {},
   "source": [
    "# Pandas\n",
    "![pandas](./Pandas_logo.png)\n",
    "\n",
    "<br>\n",
    "\n",
    "**데이터 분석**을 하고 싶으신가요? 그럼 `pandas`를 한번 거쳐가시는 것이 좋습니다. 물론 굉장히 멋있어 보이는 `Machine Learning`, `AI` 등을 하고 싶으시겠지만, 두 다리 없이 뛸 수는 없잖아요? 일단 데이터를 다룰 수 있는 기본기를 익히고, 멋있어 보이는 것들을 해봅시다.  \n",
    "\n",
    "<br>\n",
    "  \n",
    "Pandas는 Python Data Analysis Library의 약자입니다. 이름만 보고 \"오잉 판다가 갑자기 왜 나오징?\" 하실 수 있지만 의외로 판다와 무관합니다 ㅎㅎ   \n",
    "  \n",
    "그럼 한번 pandas와 관련된 문제를 풀어보러 가시죠!\n",
    "\n",
    "<br>\n",
    "\n",
    "---\n",
    "\n",
    "**알림**\n",
    "- 본 컨텐츠는 강의 형식이 아닌, 스스로 공부하시는 분들을 위한 일종의 문제집 입니다.\n",
    "- 데이터라는 큰 바다에서 여러분이 쓸 데 없는 시간 낭비 없이 바로바로 핵심을 배우실 수 있도록 커리큘럼을 짜봤습니다.\n",
    "- 이 컨텐츠의 문제들만 해결한다고 실력이 오르지 않습니다. 본 컨텐츠의 목적은 문제를 해결하는 과정에서 발생하는 고민과 질문을 통한 실력 향상입니다. \n",
    "- 문제에서 절대 떠먹여주지 않습니다. 물고기를 잡아주는 것이 아닌, 물고기를 잡는 방법을 여러분이 이 컨텐츠를 통해 알아가셨으면 합니다."
   ]
  },
  {
   "cell_type": "markdown",
   "metadata": {},
   "source": [
    "\n",
    "<br>\n",
    "\n",
    "<br>\n",
    "\n",
    "# 1. Data Frame 다루기\n",
    "- Tabular Data를 다루는 가장 기본적인 툴이 바로 `pandas`입니다. Tabular Data는 흔히 여러분이 엑셀에서 많이 봐오셨던 데이터를 말하는데요, 쉽게 말해서 그냥 표라고 생각하셔도 무방합니다.  \n",
    "- 이번 Chapter에선 `pandas`의 가장 기본적인 형태인 `Data Frame`을 다루는 쉽지만 필수적인 method에 대해 알아보겠습니다."
   ]
  },
  {
   "cell_type": "markdown",
   "metadata": {},
   "source": [
    "❗ 잠깐 ❗  \n",
    "들어가기 전에, Data Frame에 대한 간단한 설명이 있는 [pandas document](https://pandas.pydata.org/docs/getting_started/intro_tutorials/01_table_oriented.html)를 한번 가볍게 쭉 읽고 오시는 것을 추천드려요 ㅎㅎ"
   ]
  },
  {
   "cell_type": "markdown",
   "metadata": {},
   "source": [
    "### 1-1 Data Frame 만들기"
   ]
  },
  {
   "cell_type": "markdown",
   "metadata": {},
   "source": [
    "**문제**  \n",
    "열(Column)의 이름이 A, B, C, D이고, 각 열마다 Random한 숫자가 10개씩 담겨져 있는 Data Frame을 생성해보세요.\n",
    "\n",
    "검색 힌트  : pandas Data Frame 생성, pandas data frame 만들기\n",
    "\n",
    "_예시_  \n",
    "![](./1-1answer.png)\n"
   ]
  },
  {
   "cell_type": "code",
   "execution_count": 37,
   "metadata": {},
   "outputs": [
    {
     "name": "stdout",
     "output_type": "stream",
     "text": [
      "          A         B         C         D\n",
      "0  0.454896  0.755560  0.763712  0.798280\n",
      "1  0.018415  0.753371  0.828877  0.908474\n",
      "2  0.528503  0.505453  0.164127  0.812591\n",
      "3  0.552339  0.319298  0.729523  0.516481\n",
      "4  0.682244  0.995266  0.413837  0.305777\n",
      "5  0.642194  0.105346  0.441224  0.945397\n",
      "6  0.139820  0.787263  0.168431  0.991447\n",
      "7  0.281577  0.148481  0.410010  0.831068\n",
      "8  0.496159  0.563007  0.338439  0.897169\n",
      "9  0.287545  0.403909  0.243647  0.249189\n"
     ]
    }
   ],
   "source": [
    "import pandas as pd\n",
    "import random as rd\n",
    "value_0=[]\n",
    "value_1=[]\n",
    "value_2=[]\n",
    "value_3=[]\n",
    "value_4=[]\n",
    "value_5=[]\n",
    "value_6=[]\n",
    "value_7=[]\n",
    "value_8=[]\n",
    "value_9=[]\n",
    "for i in range(4):\n",
    "    value_0.append(rd.random())\n",
    "for i in range(4):\n",
    "    value_1.append(rd.random())\n",
    "for i in range(4):\n",
    "    value_2.append(rd.random())\n",
    "for i in range(4):\n",
    "    value_3.append(rd.random())\n",
    "for i in range(4):\n",
    "    value_4.append(rd.random())\n",
    "for i in range(4):\n",
    "    value_5.append(rd.random())\n",
    "for i in range(4):\n",
    "    value_6.append(rd.random())\n",
    "for i in range(4):\n",
    "    value_7.append(rd.random())\n",
    "for i in range(4):\n",
    "    value_8.append(rd.random())\n",
    "for i in range(4):\n",
    "    value_9.append(rd.random())\n",
    "Chart=pd.DataFrame([value_0,value_1,value_2,value_3,value_4,value_5,value_6,value_7,value_8,value_9],\n",
    "                   index=[\"0\",\"1\",\"2\",\"3\",\"4\",\"5\",\"6\",\"7\",\"8\",\"9\"],\n",
    "                   columns=[\"A\",\"B\",\"C\",\"D\"]\n",
    "            )\n",
    "print(Chart)\n"
   ]
  },
  {
   "cell_type": "markdown",
   "metadata": {},
   "source": [
    "### 1-2 Data Frame Indexing 1\n",
    "\n",
    "**문제**  \n",
    "1-1에서 생성한 DataFrame에서 위에서부터 5개의 행을 출력하는 코드를 작성해보세요  \n",
    "  \n",
    "검색 힌트 : pandas indexing, pandas print top5 rows  \n",
    "  \n",
    "_예시_  \n",
    "![](./1-2answer.png)"
   ]
  },
  {
   "cell_type": "code",
   "execution_count": 36,
   "metadata": {},
   "outputs": [
    {
     "name": "stdout",
     "output_type": "stream",
     "text": [
      "          A         B         C         D\n",
      "0  0.087950  0.445579  0.810827  0.178496\n",
      "1  0.546500  0.857158  0.938656  0.897414\n",
      "2  0.422848  0.504915  0.439010  0.216894\n",
      "3  0.564045  0.879133  0.164892  0.025774\n",
      "4  0.987930  0.665488  0.939873  0.783964\n"
     ]
    }
   ],
   "source": [
    "print(Chart.head(5))"
   ]
  },
  {
   "cell_type": "markdown",
   "metadata": {},
   "source": [
    "### 1-3 Data Frame Indexing 2\n",
    "\n",
    "**문제**  \n",
    "1-1에서 생성한 DataFrame에서 1번째, 2번째 열만 추출하는 코드를 작성해보세요  \n",
    "  \n",
    "검색 힌트 : pandas indexing, pandas iloc, pandas loc  \n",
    "  \n",
    "_예시_  \n",
    "![](./1-3answer.png)"
   ]
  },
  {
   "cell_type": "code",
   "execution_count": 39,
   "metadata": {},
   "outputs": [
    {
     "name": "stdout",
     "output_type": "stream",
     "text": [
      "          A         B         C         D\n",
      "0  0.454896  0.755560  0.763712  0.798280\n",
      "1  0.018415  0.753371  0.828877  0.908474\n",
      "2  0.528503  0.505453  0.164127  0.812591\n",
      "3  0.552339  0.319298  0.729523  0.516481\n",
      "4  0.682244  0.995266  0.413837  0.305777\n",
      "5  0.642194  0.105346  0.441224  0.945397\n",
      "6  0.139820  0.787263  0.168431  0.991447\n",
      "7  0.281577  0.148481  0.410010  0.831068\n",
      "8  0.496159  0.563007  0.338439  0.897169\n",
      "9  0.287545  0.403909  0.243647  0.249189\n",
      "A    0.454896\n",
      "B    0.755560\n",
      "C    0.763712\n",
      "D    0.798280\n",
      "Name: 0, dtype: float64\n",
      "          A         B\n",
      "0  0.454896  0.755560\n",
      "1  0.018415  0.753371\n",
      "2  0.528503  0.505453\n",
      "3  0.552339  0.319298\n",
      "4  0.682244  0.995266\n",
      "5  0.642194  0.105346\n",
      "6  0.139820  0.787263\n",
      "7  0.281577  0.148481\n",
      "8  0.496159  0.563007\n",
      "9  0.287545  0.403909\n"
     ]
    }
   ],
   "source": [
    "print(Chart.loc[:,[\"A\",\"B\"]])"
   ]
  },
  {
   "cell_type": "markdown",
   "metadata": {},
   "source": [
    "### 1-4 Data Frame Indexing 3\n",
    "\n",
    "**문제**  \n",
    "1-1에서 생성한 DataFrame에서 \"A\"열과 \"D\"열만 추출하는 코드를 작성해보세요  \n",
    "  \n",
    "검색 힌트 : pandas indexing, pandas iloc, pandas loc  \n",
    "  \n",
    "_예시_  \n",
    "![](./1-4answer.png)"
   ]
  },
  {
   "cell_type": "code",
   "execution_count": 29,
   "metadata": {},
   "outputs": [
    {
     "name": "stdout",
     "output_type": "stream",
     "text": [
      "          A         D\n",
      "0  0.403652  0.645557\n",
      "1  0.749292  0.027546\n",
      "2  0.915140  0.961686\n",
      "3  0.815524  0.970404\n",
      "4  0.251758  0.100414\n",
      "5  0.596489  0.542116\n",
      "6  0.913981  0.780472\n",
      "7  0.236102  0.493572\n",
      "8  0.908260  0.204762\n",
      "9  0.964887  0.464678\n"
     ]
    }
   ],
   "source": [
    "print(Chart.loc[:,[\"A\",\"D\"]])"
   ]
  },
  {
   "cell_type": "markdown",
   "metadata": {},
   "source": [
    "### 1-5 Data Frame columns, values, index\n",
    "\n",
    "**문제**  \n",
    "1-1에서 생성한 DataFrame의 Column들과 값들, index, shape을 출력하는 코드를 작성하세요 \n",
    "  \n",
    "검색 힌트 : pandas columns, pandas values, pandas index\n",
    "  \n",
    "_예시_  \n",
    "![](./1-5answer.png)"
   ]
  },
  {
   "cell_type": "code",
   "execution_count": 38,
   "metadata": {},
   "outputs": [
    {
     "name": "stdout",
     "output_type": "stream",
     "text": [
      "Index(['A', 'B', 'C', 'D'], dtype='object')\n",
      "[[0.08795032 0.44557859 0.81082734 0.1784963 ]\n",
      " [0.5465004  0.85715758 0.9386564  0.89741397]\n",
      " [0.42284794 0.50491458 0.4390097  0.21689413]\n",
      " [0.56404495 0.87913303 0.16489238 0.02577358]\n",
      " [0.98793044 0.66548847 0.93987275 0.78396433]\n",
      " [0.60426559 0.86917734 0.35805278 0.60822641]\n",
      " [0.91819109 0.46881842 0.96938743 0.17408161]\n",
      " [0.22305211 0.75148959 0.10770441 0.83405778]\n",
      " [0.08589097 0.90815039 0.50316651 0.06643912]\n",
      " [0.92721261 0.29141488 0.36815116 0.26193748]]\n",
      "(10, 4)\n"
     ]
    }
   ],
   "source": [
    "print(Chart.columns)\n",
    "print(Chart.values)\n",
    "print(Chart.shape)"
   ]
  },
  {
   "cell_type": "markdown",
   "metadata": {},
   "source": [
    "### 1-6 Data Frame Informations\n",
    "\n",
    "**문제**  \n",
    "1-1에서 생성한 DataFrame의 column별 정보와 통계적 정보를 출력하는 코드를 작성하세요 \n",
    "  \n",
    "검색 힌트 : pandas get data frame information, pandas get statistic information\n",
    "  \n",
    "_예시_  \n",
    "![](./1-6answer.png)"
   ]
  },
  {
   "cell_type": "code",
   "execution_count": 40,
   "metadata": {},
   "outputs": [
    {
     "name": "stdout",
     "output_type": "stream",
     "text": [
      "<class 'pandas.core.frame.DataFrame'>\n",
      "Index: 10 entries, 0 to 9\n",
      "Data columns (total 4 columns):\n",
      " #   Column  Non-Null Count  Dtype  \n",
      "---  ------  --------------  -----  \n",
      " 0   A       10 non-null     float64\n",
      " 1   B       10 non-null     float64\n",
      " 2   C       10 non-null     float64\n",
      " 3   D       10 non-null     float64\n",
      "dtypes: float64(4)\n",
      "memory usage: 700.0+ bytes\n",
      "None\n",
      "               A          B          C          D\n",
      "count  10.000000  10.000000  10.000000  10.000000\n",
      "mean    0.408369   0.533695   0.450183   0.725587\n",
      "std     0.218472   0.292720   0.244747   0.269317\n",
      "min     0.018415   0.105346   0.164127   0.249189\n",
      "25%     0.283069   0.340451   0.267345   0.586930\n",
      "50%     0.475527   0.534230   0.411923   0.821829\n",
      "75%     0.546380   0.755013   0.657448   0.905648\n",
      "max     0.682244   0.995266   0.828877   0.991447\n"
     ]
    }
   ],
   "source": [
    "print(Chart.info())\n",
    "print(Chart.describe())"
   ]
  },
  {
   "cell_type": "markdown",
   "metadata": {},
   "source": [
    "### 1-7 Data Frame Sorting\n",
    "\n",
    "**문제**  \n",
    "1-1에서 생성한 DataFrame을 \"A\" Column을 기준으로 내림차순으로 정렬한 뒤, Index를 재정렬하는 코드를 작성하세요.  \n",
    "(단, Index 재정렬 후 , 원래의 index는 삭제해주세요.)\n",
    "  \n",
    "검색 힌트 : pandas sort values, pandas sort values descending, pandas reset index\n",
    "  \n",
    "_예시_  \n",
    "![](./1-7answer.png)"
   ]
  },
  {
   "cell_type": "code",
   "execution_count": 41,
   "metadata": {},
   "outputs": [
    {
     "name": "stdout",
     "output_type": "stream",
     "text": [
      "          A         B         C         D\n",
      "4  0.987930  0.665488  0.939873  0.783964\n",
      "9  0.927213  0.291415  0.368151  0.261937\n",
      "6  0.918191  0.468818  0.969387  0.174082\n",
      "5  0.604266  0.869177  0.358053  0.608226\n",
      "3  0.564045  0.879133  0.164892  0.025774\n",
      "1  0.546500  0.857158  0.938656  0.897414\n",
      "2  0.422848  0.504915  0.439010  0.216894\n",
      "7  0.223052  0.751490  0.107704  0.834058\n",
      "0  0.087950  0.445579  0.810827  0.178496\n",
      "8  0.085891  0.908150  0.503167  0.066439\n",
      "          A         B         C         D\n",
      "0  0.087950  0.445579  0.810827  0.178496\n",
      "1  0.546500  0.857158  0.938656  0.897414\n",
      "2  0.422848  0.504915  0.439010  0.216894\n",
      "3  0.564045  0.879133  0.164892  0.025774\n",
      "4  0.987930  0.665488  0.939873  0.783964\n",
      "5  0.604266  0.869177  0.358053  0.608226\n",
      "6  0.918191  0.468818  0.969387  0.174082\n",
      "7  0.223052  0.751490  0.107704  0.834058\n",
      "8  0.085891  0.908150  0.503167  0.066439\n",
      "9  0.927213  0.291415  0.368151  0.261937\n"
     ]
    }
   ],
   "source": [
    "print(Chart.sort_values(by='A',ascending=False))\n",
    "print(Chart.sort_index())\n"
   ]
  },
  {
   "cell_type": "markdown",
   "metadata": {},
   "source": [
    "### 1-8 Data Frame Advanced Indexing 1\n",
    "\n",
    "**문제**  \n",
    "아래와 같은 Data Frame을 만들고, 주 언어가 파이썬인 사람들만 조회하는 코드를 작성해보세요.\n",
    "  \n",
    "검색 힌트 : pandas indexing, pandas query, pandas get specific values\n",
    "  \n",
    "<br>\n",
    "\n",
    "Data Frame 예시  \n",
    "![](./1-8df.png)\n",
    "\n",
    "_예시_  \n",
    "![](./1-8answer.png)\n"
   ]
  },
  {
   "cell_type": "code",
   "execution_count": 63,
   "metadata": {},
   "outputs": [
    {
     "name": "stdout",
     "output_type": "stream",
     "text": [
      "    이름  학과   언어      직무\n",
      "0  피카츄  경제  파이썬  AI엔지니어\n",
      "3  꼬부기  컴공  파이썬  AI엔지니어\n",
      "6  피죤투  컴공  파이썬  AI엔지니어\n"
     ]
    }
   ],
   "source": [
    "\n",
    "index_0=[\"피카츄\",\"경제\",\"파이썬\",\"AI엔지니어\"]\n",
    "index_1=[\"라이츄\",\"경영\",\"C\",\"프론트\"]\n",
    "index_2=[\"파이리\",\"컴공\",\"C+\",\"백엔드\"]\n",
    "index_3=[\"꼬부기\",\"컴공\",\"파이썬\",\"AI엔지니어\"]\n",
    "index_4=[\"버터풀\",\"경제\",\"자바\",\"백엔드\"]\n",
    "index_5=[\"야도란\",\"전전\",\"엄\",\"프론트\"]\n",
    "index_6=[\"피죤투\",\"컴공\",\"파이썬\",\"AI엔지니어\"]\n",
    "index_7=[\"또가스\",\"기계\",\"자바\",\"PM\"]\n",
    "Chart2=pd.DataFrame( [index_0,index_1,index_2,index_3,index_4,index_5,index_6,index_7],\n",
    "                     index=[\"0\",\"1\",\"2\",\"3\",\"4\",\"5\",\"6\",\"7\"],\n",
    "                     columns=[\"이름\",\"학과\",\"언어\",\"직무\"]   \n",
    "                        )\n",
    "\n",
    "print(Chart2.query(\"언어 in '파이썬'\"))"
   ]
  },
  {
   "cell_type": "markdown",
   "metadata": {},
   "source": [
    "### 1-9 Data Frame Advanced Indexing 2\n",
    "\n",
    "**문제**  \n",
    "1-8에서 만든 Data Frame에서 학과가 컴공이고, 주 언어가 파이썬, 직무는 AI 엔지니어인 사람들만 조회하는 코드를 작성해보세요.\n",
    "  \n",
    "검색 힌트 : pandas indexing, pandas query, pandas get specific values\n",
    "\n",
    "_예시_  \n",
    "![](./1-9answer.png)"
   ]
  },
  {
   "cell_type": "code",
   "execution_count": 62,
   "metadata": {},
   "outputs": [
    {
     "name": "stdout",
     "output_type": "stream",
     "text": [
      "    이름  학과   언어      직무\n",
      "3  꼬부기  컴공  파이썬  AI엔지니어\n",
      "6  피죤투  컴공  파이썬  AI엔지니어\n"
     ]
    }
   ],
   "source": [
    "result=Chart2.query(\"학과 in '컴공' and 언어 in '파이썬' and 직무 in 'AI엔지니어'\")\n",
    "print(result)\n"
   ]
  },
  {
   "cell_type": "markdown",
   "metadata": {},
   "source": [
    "### 1-10 Data Frame Concat\n",
    "\n",
    "**문제**  \n",
    "1-1에서 만든 Data Frame과 1-8에서 만든 Data Frame을 위아래로 합치는 코드와, 좌우로 합치는 코드를 작성해주세요. 각 작업을 수행한 후엔 Index를 다시 세팅해주세요!\n",
    "  \n",
    "검색 힌트 : pandas concat Data Frame\n",
    "\n",
    "_예시_  \n",
    "위아래로 합치는 경우  \n",
    "![](./1-10answer1.png)  \n",
    "좌우로 합치는 경우  \n",
    "![](./1-10answer2.png)  "
   ]
  },
  {
   "cell_type": "code",
   "execution_count": 69,
   "metadata": {},
   "outputs": [
    {
     "name": "stdout",
     "output_type": "stream",
     "text": [
      "          A         B         C         D\n",
      "0   0.08795  0.445579  0.810827  0.178496\n",
      "1    0.5465  0.857158  0.938656  0.897414\n",
      "2  0.422848  0.504915   0.43901  0.216894\n",
      "3  0.564045  0.879133  0.164892  0.025774\n",
      "4   0.98793  0.665488  0.939873  0.783964\n",
      "5  0.604266  0.869177  0.358053  0.608226\n",
      "6  0.918191  0.468818  0.969387  0.174082\n",
      "7  0.223052   0.75149  0.107704  0.834058\n",
      "8  0.085891   0.90815  0.503167  0.066439\n",
      "9  0.927213  0.291415  0.368151  0.261937\n",
      "0       피카츄        경제       파이썬    AI엔지니어\n",
      "1       라이츄        경영         C       프론트\n",
      "2       파이리        컴공        C+       백엔드\n",
      "3       꼬부기        컴공       파이썬    AI엔지니어\n",
      "4       버터풀        경제        자바       백엔드\n",
      "5       야도란        전전         엄       프론트\n",
      "6       피죤투        컴공       파이썬    AI엔지니어\n",
      "7       또가스        기계        자바        PM\n",
      "          A         B         C         D    A    B    C       D\n",
      "0  0.087950  0.445579  0.810827  0.178496  피카츄   경제  파이썬  AI엔지니어\n",
      "1  0.546500  0.857158  0.938656  0.897414  라이츄   경영    C     프론트\n",
      "2  0.422848  0.504915  0.439010  0.216894  파이리   컴공   C+     백엔드\n",
      "3  0.564045  0.879133  0.164892  0.025774  꼬부기   컴공  파이썬  AI엔지니어\n",
      "4  0.987930  0.665488  0.939873  0.783964  버터풀   경제   자바     백엔드\n",
      "5  0.604266  0.869177  0.358053  0.608226  야도란   전전    엄     프론트\n",
      "6  0.918191  0.468818  0.969387  0.174082  피죤투   컴공  파이썬  AI엔지니어\n",
      "7  0.223052  0.751490  0.107704  0.834058  또가스   기계   자바      PM\n",
      "8  0.085891  0.908150  0.503167  0.066439  NaN  NaN  NaN     NaN\n",
      "9  0.927213  0.291415  0.368151  0.261937  NaN  NaN  NaN     NaN\n"
     ]
    }
   ],
   "source": [
    "Chart_merged1=pd.concat([Chart,Chart2],axis=0)\n",
    "print(Chart_merged1)\n",
    "Chart_merged2=pd.concat([Chart,Chart2],axis=1)\n",
    "print(Chart_merged2)"
   ]
  },
  {
   "cell_type": "markdown",
   "metadata": {},
   "source": [
    "### 1-11 Data Frame Concat 2\n",
    "\n",
    "**문제**  \n",
    "1-10에서 만든 Data Frame가 뭔가 이상합니다. NaN값들이 막 섞여있고 상당히 지저분합니다. 왜 이러는 걸까요? 이유를 한번 생각해서 적어보세요!  \n",
    "  \n",
    "이유를 적어본 뒤에, 1-8에서 만든 Data Frame의 이름을 \"A\", \"B\", \"C\", \"D\"로 바꾼 다음 다시 시도해보세요.\n",
    "  \n",
    "검색 힌트 : pandas concat Data Frame, pandas column name change\n"
   ]
  },
  {
   "cell_type": "code",
   "execution_count": 65,
   "metadata": {},
   "outputs": [
    {
     "name": "stdout",
     "output_type": "stream",
     "text": [
      "          A         B         C         D\n",
      "0   0.08795  0.445579  0.810827  0.178496\n",
      "1    0.5465  0.857158  0.938656  0.897414\n",
      "2  0.422848  0.504915   0.43901  0.216894\n",
      "3  0.564045  0.879133  0.164892  0.025774\n",
      "4   0.98793  0.665488  0.939873  0.783964\n",
      "5  0.604266  0.869177  0.358053  0.608226\n",
      "6  0.918191  0.468818  0.969387  0.174082\n",
      "7  0.223052   0.75149  0.107704  0.834058\n",
      "8  0.085891   0.90815  0.503167  0.066439\n",
      "9  0.927213  0.291415  0.368151  0.261937\n",
      "0       피카츄        경제       파이썬    AI엔지니어\n",
      "1       라이츄        경영         C       프론트\n",
      "2       파이리        컴공        C+       백엔드\n",
      "3       꼬부기        컴공       파이썬    AI엔지니어\n",
      "4       버터풀        경제        자바       백엔드\n",
      "5       야도란        전전         엄       프론트\n",
      "6       피죤투        컴공       파이썬    AI엔지니어\n",
      "7       또가스        기계        자바        PM\n"
     ]
    }
   ],
   "source": [
    "# 1-1에서 만든 data frame에 이름,학과,언어,직무 정보가 없기 때문 아닐까요. 1-8에서도 마찬가지로요.\n",
    "\n",
    "Chart2.columns=[\"A\",\"B\",\"C\",\"D\"]\n",
    "Chart_merged3=pd.concat([Chart,Chart2],axis=0)\n",
    "print(Chart_merged3)"
   ]
  },
  {
   "cell_type": "markdown",
   "metadata": {},
   "source": [
    "# 2. 데이터 불러오기\n",
    "  \n",
    "- 여기까지 해내신 분들! 아주 대단하십니다. 여기까지 푸신 것만 해도, 데이터를 다뤄볼 준비가 됐다고 할 수 있습니다 ㅎㅎ 뭐든 기본기가 지루하고 귀찮다고는 하지만 제일 중요하니까요..! \n",
    "- 이제는 튜토리얼 데이터를 불러와서, 통계량을 확인해보고, 우리들이 만든 함수도 적용해볼 겁니다. 어떻게 하는지 볼까요?  \n"
   ]
  },
  {
   "cell_type": "markdown",
   "metadata": {},
   "source": [
    "❗잠깐❗  \n",
    "데이터를 다운 받아야겠죠? \n",
    "[이곳](https://www.kaggle.com/code/parulpandey/penguin-dataset-the-new-iris/data)에서 데이터를 다운 받은뒤, 압축을 해제하고, `penguins_size.csv`파일을 **코드 파일이 존재하는 폴더에 저장해주세요**"
   ]
  },
  {
   "cell_type": "markdown",
   "metadata": {},
   "source": [
    "### 2-1 Read CSV\n",
    "\n",
    "**문제**  \n",
    "방금 다운받은 데이터를 Data Frame으로 읽는 코드를 작성해주세요.\n",
    "  \n",
    "검색 힌트 : pandas read data, pandas read csv file\n",
    "\n",
    "_예시_  \n",
    "![](./2-1answer.png)  \n",
    "  "
   ]
  },
  {
   "cell_type": "code",
   "execution_count": 14,
   "metadata": {},
   "outputs": [
    {
     "name": "stdout",
     "output_type": "stream",
     "text": [
      "    species     island  culmen_length_mm  culmen_depth_mm  flipper_length_mm  \\\n",
      "0    Adelie  Torgersen              39.1             18.7              181.0   \n",
      "1    Adelie  Torgersen              39.5             17.4              186.0   \n",
      "2    Adelie  Torgersen              40.3             18.0              195.0   \n",
      "3    Adelie  Torgersen               NaN              NaN                NaN   \n",
      "4    Adelie  Torgersen              36.7             19.3              193.0   \n",
      "..      ...        ...               ...              ...                ...   \n",
      "339  Gentoo     Biscoe               NaN              NaN                NaN   \n",
      "340  Gentoo     Biscoe              46.8             14.3              215.0   \n",
      "341  Gentoo     Biscoe              50.4             15.7              222.0   \n",
      "342  Gentoo     Biscoe              45.2             14.8              212.0   \n",
      "343  Gentoo     Biscoe              49.9             16.1              213.0   \n",
      "\n",
      "     body_mass_g     sex  \n",
      "0         3750.0    MALE  \n",
      "1         3800.0  FEMALE  \n",
      "2         3250.0  FEMALE  \n",
      "3            NaN     NaN  \n",
      "4         3450.0  FEMALE  \n",
      "..           ...     ...  \n",
      "339          NaN     NaN  \n",
      "340       4850.0  FEMALE  \n",
      "341       5750.0    MALE  \n",
      "342       5200.0  FEMALE  \n",
      "343       5400.0    MALE  \n",
      "\n",
      "[344 rows x 7 columns]\n"
     ]
    }
   ],
   "source": [
    "\n",
    "penguins=pd.read_csv(\"penguins_size.csv\")\n",
    "print(penguins)"
   ]
  },
  {
   "cell_type": "markdown",
   "metadata": {},
   "source": [
    "### 2-2 Data Frame Indexing 복습!\n",
    "\n",
    "**문제**  \n",
    "읽어온 Data Frame에서, `species`가 `Gentoo`인 데이터만 조회하고, index를 새로 재배치 하는 코드를 작성해주세요. \n",
    "  \n",
    "검색 힌트 : pandas indexing, pandas query\n",
    "\n",
    "_예시_  \n",
    "![](./2-2answer.png)  \n",
    "  "
   ]
  },
  {
   "cell_type": "code",
   "execution_count": 13,
   "metadata": {},
   "outputs": [
    {
     "name": "stdout",
     "output_type": "stream",
     "text": [
      "     index species  island  culmen_length_mm  culmen_depth_mm  \\\n",
      "0      220  Gentoo  Biscoe              46.1             13.2   \n",
      "1      221  Gentoo  Biscoe              50.0             16.3   \n",
      "2      222  Gentoo  Biscoe              48.7             14.1   \n",
      "3      223  Gentoo  Biscoe              50.0             15.2   \n",
      "4      224  Gentoo  Biscoe              47.6             14.5   \n",
      "..     ...     ...     ...               ...              ...   \n",
      "119    339  Gentoo  Biscoe               NaN              NaN   \n",
      "120    340  Gentoo  Biscoe              46.8             14.3   \n",
      "121    341  Gentoo  Biscoe              50.4             15.7   \n",
      "122    342  Gentoo  Biscoe              45.2             14.8   \n",
      "123    343  Gentoo  Biscoe              49.9             16.1   \n",
      "\n",
      "     flipper_length_mm  body_mass_g     sex  \n",
      "0                211.0       4500.0  FEMALE  \n",
      "1                230.0       5700.0    MALE  \n",
      "2                210.0       4450.0  FEMALE  \n",
      "3                218.0       5700.0    MALE  \n",
      "4                215.0       5400.0    MALE  \n",
      "..                 ...          ...     ...  \n",
      "119                NaN          NaN     NaN  \n",
      "120              215.0       4850.0  FEMALE  \n",
      "121              222.0       5750.0    MALE  \n",
      "122              212.0       5200.0  FEMALE  \n",
      "123              213.0       5400.0    MALE  \n",
      "\n",
      "[124 rows x 8 columns]\n"
     ]
    }
   ],
   "source": [
    "Gentoo=penguins.query(\"species in 'Gentoo'\")\n",
    "print(Gentoo.reset_index())"
   ]
  },
  {
   "cell_type": "markdown",
   "metadata": {},
   "source": [
    "### 2-3 Groupby\n",
    "\n",
    "**문제**  \n",
    "2-1에서 읽어온 Data Frame에서, `species`별 평균값 데이터를 조회해보세요.  \n",
    "`species`별 평균값의 조회가 끝났다면, `island`별 평균, 최대, 최소, 중앙값 데이터도 조회해보세요!  \n",
    "  \n",
    "검색 힌트 : pandas groupby, pandas aggregate function\n",
    "\n",
    "_예시_  \n",
    "![](./2-3answer.png)  \n",
    "![](./2-3answer2.png)\n",
    "  "
   ]
  },
  {
   "cell_type": "code",
   "execution_count": 22,
   "metadata": {},
   "outputs": [
    {
     "name": "stdout",
     "output_type": "stream",
     "text": [
      "           culmen_length_mm  culmen_depth_mm  flipper_length_mm  body_mass_g\n",
      "island                                                                      \n",
      "Biscoe            45.257485        15.874850         209.706587  4716.017964\n",
      "Dream             44.167742        18.344355         193.072581  3712.903226\n",
      "Torgersen         38.950980        18.429412         191.196078  3706.372549              species  culmen_length_mm  culmen_depth_mm  flipper_length_mm  \\\n",
      "island                                                                       \n",
      "Biscoe        Gentoo              59.6             21.1              231.0   \n",
      "Dream      Chinstrap              58.0             21.2              212.0   \n",
      "Torgersen     Adelie              46.0             21.5              210.0   \n",
      "\n",
      "           body_mass_g  \n",
      "island                  \n",
      "Biscoe          6300.0  \n",
      "Dream           4800.0  \n",
      "Torgersen       4700.0  \n"
     ]
    },
    {
     "name": "stderr",
     "output_type": "stream",
     "text": [
      "C:\\Users\\송준우\\AppData\\Local\\Temp\\ipykernel_7324\\537539802.py:5: FutureWarning: Dropping invalid columns in DataFrameGroupBy.max is deprecated. In a future version, a TypeError will be raised. Before calling .max, select only columns which should be valid for the function.\n",
      "  print(group_island.mean(),group_island.max())\n"
     ]
    }
   ],
   "source": [
    "group_species=penguins.groupby(\"species\")\n",
    "print(group_species.mean())\n",
    "\n",
    "group_island=penguins.groupby(\"island\")\n",
    "print(group_island.mean())\n",
    "print(group_island.max())\n",
    "print(group_island.min())\n",
    "print(group_island.median())"
   ]
  },
  {
   "cell_type": "markdown",
   "metadata": {},
   "source": [
    "### 2-4 apply lambda\n",
    "\n",
    "**문제**  \n",
    "들어온 input에 대해서 제곱된 값을 return 해주는 함수를 작성하세요.  \n",
    "그런 다음 2-1에서 읽어온 Data Frame에서, `body_mass_g` Column의 값을 제곱한 새로운 Column을 만들어보세요\n",
    "\n",
    "검색 힌트 : pandas new column, pandas apply lambda\n",
    "\n",
    "_예시_  \n",
    "![](./2-4answer.png)  \n",
    "  "
   ]
  },
  {
   "cell_type": "code",
   "execution_count": 26,
   "metadata": {},
   "outputs": [
    {
     "name": "stdout",
     "output_type": "stream",
     "text": [
      "    species     island  culmen_length_mm  culmen_depth_mm  flipper_length_mm  \\\n",
      "0    Adelie  Torgersen              39.1             18.7              181.0   \n",
      "1    Adelie  Torgersen              39.5             17.4              186.0   \n",
      "2    Adelie  Torgersen              40.3             18.0              195.0   \n",
      "3    Adelie  Torgersen               NaN              NaN                NaN   \n",
      "4    Adelie  Torgersen              36.7             19.3              193.0   \n",
      "..      ...        ...               ...              ...                ...   \n",
      "339  Gentoo     Biscoe               NaN              NaN                NaN   \n",
      "340  Gentoo     Biscoe              46.8             14.3              215.0   \n",
      "341  Gentoo     Biscoe              50.4             15.7              222.0   \n",
      "342  Gentoo     Biscoe              45.2             14.8              212.0   \n",
      "343  Gentoo     Biscoe              49.9             16.1              213.0   \n",
      "\n",
      "     body_mass_g     sex  \n",
      "0         3750.0    MALE  \n",
      "1         3800.0  FEMALE  \n",
      "2         3250.0  FEMALE  \n",
      "3            NaN     NaN  \n",
      "4         3450.0  FEMALE  \n",
      "..           ...     ...  \n",
      "339          NaN     NaN  \n",
      "340       4850.0  FEMALE  \n",
      "341       5750.0    MALE  \n",
      "342       5200.0  FEMALE  \n",
      "343       5400.0    MALE  \n",
      "\n",
      "[344 rows x 7 columns]\n"
     ]
    }
   ],
   "source": [
    "def mul_two(x):\n",
    "    x=x*2\n",
    "    return x\n",
    "\n",
    "penguins[\"body_mass_g\"].apply(mul_two)\n",
    "print(penguins)\n",
    "#print(penguins.loc[:,\"body_mass_g\"])"
   ]
  },
  {
   "cell_type": "markdown",
   "metadata": {},
   "source": [
    "### 2-5 drop nan values\n",
    "\n",
    "**문제**  \n",
    "2-1에서 읽어온 Data Frame에서 칼럼 별로 값이 없는 데이터의 수를 구하는 코드를 작성해보세요.  \n",
    "그리고 그런 공백값들을 제거한 Data Frame을 출력하는 코드를 작성해주세요.\n",
    "\n",
    "검색 힌트 : pandas get number of nan, pandas remove null \n",
    "\n",
    "_예시_  \n",
    "column별 공백값의 수  \n",
    "![](./2-5answer1.png)   \n",
    "제거 후 Data Frame  \n",
    "![](./2-5answer2.png)   "
   ]
  },
  {
   "cell_type": "code",
   "execution_count": 31,
   "metadata": {},
   "outputs": [
    {
     "name": "stdout",
     "output_type": "stream",
     "text": [
      "species               0\n",
      "island                0\n",
      "culmen_length_mm      2\n",
      "culmen_depth_mm       2\n",
      "flipper_length_mm     2\n",
      "body_mass_g           2\n",
      "sex                  10\n",
      "dtype: int64\n",
      "    species     island  culmen_length_mm  culmen_depth_mm  flipper_length_mm  \\\n",
      "0    Adelie  Torgersen              39.1             18.7              181.0   \n",
      "1    Adelie  Torgersen              39.5             17.4              186.0   \n",
      "2    Adelie  Torgersen              40.3             18.0              195.0   \n",
      "4    Adelie  Torgersen              36.7             19.3              193.0   \n",
      "5    Adelie  Torgersen              39.3             20.6              190.0   \n",
      "..      ...        ...               ...              ...                ...   \n",
      "338  Gentoo     Biscoe              47.2             13.7              214.0   \n",
      "340  Gentoo     Biscoe              46.8             14.3              215.0   \n",
      "341  Gentoo     Biscoe              50.4             15.7              222.0   \n",
      "342  Gentoo     Biscoe              45.2             14.8              212.0   \n",
      "343  Gentoo     Biscoe              49.9             16.1              213.0   \n",
      "\n",
      "     body_mass_g     sex  \n",
      "0         3750.0    MALE  \n",
      "1         3800.0  FEMALE  \n",
      "2         3250.0  FEMALE  \n",
      "4         3450.0  FEMALE  \n",
      "5         3650.0    MALE  \n",
      "..           ...     ...  \n",
      "338       4925.0  FEMALE  \n",
      "340       4850.0  FEMALE  \n",
      "341       5750.0    MALE  \n",
      "342       5200.0  FEMALE  \n",
      "343       5400.0    MALE  \n",
      "\n",
      "[334 rows x 7 columns]\n"
     ]
    }
   ],
   "source": [
    "print(penguins.isnull().sum())\n",
    "print(penguins.dropna())"
   ]
  },
  {
   "cell_type": "markdown",
   "metadata": {},
   "source": [
    "### 2-6 remove column\n",
    "\n",
    "**문제**  \n",
    "2-1에서 읽어온 Data Frame에서 `island` Column을 제거하는 코드를 작성해주세요.  \n",
    "  \n",
    "검색 힌트: pandas remove columns\n",
    "\n",
    "_예시_  \n",
    "![](./2-6answer.png)  \n",
    "  "
   ]
  },
  {
   "cell_type": "code",
   "execution_count": 32,
   "metadata": {},
   "outputs": [
    {
     "name": "stdout",
     "output_type": "stream",
     "text": [
      "    species  culmen_length_mm  culmen_depth_mm  flipper_length_mm  \\\n",
      "0    Adelie              39.1             18.7              181.0   \n",
      "1    Adelie              39.5             17.4              186.0   \n",
      "2    Adelie              40.3             18.0              195.0   \n",
      "3    Adelie               NaN              NaN                NaN   \n",
      "4    Adelie              36.7             19.3              193.0   \n",
      "..      ...               ...              ...                ...   \n",
      "339  Gentoo               NaN              NaN                NaN   \n",
      "340  Gentoo              46.8             14.3              215.0   \n",
      "341  Gentoo              50.4             15.7              222.0   \n",
      "342  Gentoo              45.2             14.8              212.0   \n",
      "343  Gentoo              49.9             16.1              213.0   \n",
      "\n",
      "     body_mass_g     sex  \n",
      "0         3750.0    MALE  \n",
      "1         3800.0  FEMALE  \n",
      "2         3250.0  FEMALE  \n",
      "3            NaN     NaN  \n",
      "4         3450.0  FEMALE  \n",
      "..           ...     ...  \n",
      "339          NaN     NaN  \n",
      "340       4850.0  FEMALE  \n",
      "341       5750.0    MALE  \n",
      "342       5200.0  FEMALE  \n",
      "343       5400.0    MALE  \n",
      "\n",
      "[344 rows x 6 columns]\n"
     ]
    }
   ],
   "source": [
    "penguins.drop(\"island\",axis=1,inplace=True)\n",
    "print(penguins)"
   ]
  },
  {
   "cell_type": "markdown",
   "metadata": {},
   "source": [
    "# 1주차 종료\n",
    "- 여기까지 완료하신 분들 너무 고생많았습니다 ㅎㅎ 우리가 위의 문제들을 푸는 과정에서 배우고 익혔던 메서드들은 앞으로 Tabular Data를 다룰 때 거의 무조건적으로 사용될 녀석들로 꼭 반복학습 하셔서 익혀두시는 걸 추천드려요.\n",
    "- 더 배우고 싶으신 분들은 아래의 문제도 한번 풀어보시는 걸 추천드려요 ㅎㅎ\n",
    "- 다음엔 시각화에 대한 문제를 풀어볼 겁니다. 우리가 읽어온 데이터를 가공한 결과를 그래프로 잘 표현하는 것만으로도 유의미한 정보를 얻어낼 수 있습니다. 백문이 불허일견인 만큼, 주저리주저리 얘기하는 것보다는 잘 된 시각화 그림 하나 보여주는 게 더 효과가 좋을 때가 많습니다. \n",
    "- 그럼 다음 주차에 봐요!\n",
    "  \n",
    "<br>\n",
    "\n",
    "👀**추가 문제**👀  \n",
    "아래의 두 Data Frame을 가지고, 아래 결과와 같은 Data Frame으로 생성해보세요! \n",
    "\n",
    "<br>\n",
    "\n",
    "**input**  \n",
    "![](./add_input.png)  \n",
    "  \n",
    "**output**  \n",
    "![](./add_output.png)\n"
   ]
  },
  {
   "cell_type": "code",
   "execution_count": 46,
   "metadata": {},
   "outputs": [
    {
     "name": "stdout",
     "output_type": "stream",
     "text": [
      "   a1  a2    a3    a4    a5\n",
      "0  음식  과일    사과  None  None\n",
      "1  음식  과일  파인애플  None  None\n",
      "2  음식  한식    찌개  김치찌개  None\n",
      "3  물건  탈것   자동차    의자  None\n",
      "      이름  코드\n",
      "0     음식   1\n",
      "1     과일   2\n",
      "2     사과   3\n",
      "3   파인애플   4\n",
      "4     한식   5\n",
      "5     찌개   6\n",
      "6   김치찌개   7\n",
      "7     물건   8\n",
      "8     탈것   9\n",
      "9    자동차  10\n",
      "10    의자  11\n"
     ]
    }
   ],
   "source": []
  }
 ],
 "metadata": {
  "kernelspec": {
   "display_name": "Python 3.9.13 64-bit (microsoft store)",
   "language": "python",
   "name": "python3"
  },
  "language_info": {
   "codemirror_mode": {
    "name": "ipython",
    "version": 3
   },
   "file_extension": ".py",
   "mimetype": "text/x-python",
   "name": "python",
   "nbconvert_exporter": "python",
   "pygments_lexer": "ipython3",
   "version": "3.10.2"
  },
  "orig_nbformat": 4,
  "vscode": {
   "interpreter": {
    "hash": "53a512125719f521366ed91a9e479611e31fcc6e9d09d02416dcc2155feac63f"
   }
  }
 },
 "nbformat": 4,
 "nbformat_minor": 2
}
